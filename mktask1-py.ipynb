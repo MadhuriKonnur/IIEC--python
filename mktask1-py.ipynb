{
 "cells": [
  {
   "cell_type": "code",
   "execution_count": 1,
   "metadata": {},
   "outputs": [],
   "source": [
    "import os\n"
   ]
  },
  {
   "cell_type": "code",
   "execution_count": 11,
   "metadata": {},
   "outputs": [],
   "source": [
    "# user  input\n",
    "\n",
    "def Launch_app():\n",
    "    \n",
    "    \n",
    "    app= input(\"This program can launch Database/Browser/Editor, Please enter any among you want to launch :\")\n",
    "\n",
    "# Different  user can write up same thing  in different way\n",
    "# e.g. \"please lauch DB \"  or  \"DataBase please\"\n",
    "# Here  tried  to  match with  certain choices\n",
    "\n",
    "    app1=['db','DB','database','DataBase','Database','sqlitebrowser','DATABASE']\n",
    "    app2=['browser','Browser','chrome','Chrome','Chromebrowser','google-chrome','BROWSER','WebBrowser','webbrowser']\n",
    "    app3=['Editor','Texteditor','editor','gedit','EDITOR']\n",
    "\n",
    "\n",
    "# making  user entered  string , as list split  on space\n",
    "\n",
    "    a =app.split()\n",
    "\n",
    "    l=len(a)-1\n",
    "\n",
    "    count= -1\n",
    "\n",
    "    while count < l:\n",
    "    \n",
    "        count +=1\n",
    "    \n",
    "        if a[count] in app3:\n",
    "            print(\"Opening editor\")\n",
    "            os.system(\"gedit\")\n",
    "            break\n",
    "        elif a[count] in app1:\n",
    "            print(\"Opening Database\")\n",
    "            os.system(\"sqlitebrowser\")\n",
    "            break\n",
    "        elif a[count] in app2:\n",
    "            print(\"Opening Browser\")\n",
    "            os.system(\"google-chrome\")\n",
    "            break\n",
    "            \n",
    "        elif a[count]=='exit':\n",
    "            print(\"closing app\")\n",
    "            os.system(\"exit\")\n",
    "            break\n",
    "\n",
    "    \n",
    "        \n",
    "    else:\n",
    "        print(\"Please check once more\")\n",
    "        Launch_app()\n",
    "        \n",
    "        \n",
    "\n",
    "\n",
    "\n",
    "\n",
    "        \n",
    "        \n",
    "        \n",
    "\n",
    "\n",
    "\n",
    "    "
   ]
  },
  {
   "cell_type": "code",
   "execution_count": 15,
   "metadata": {},
   "outputs": [
    {
     "name": "stdout",
     "output_type": "stream",
     "text": [
      "This program can launch Database/Browser/Editor, Please enter any among you want to launch :nnn\n",
      "Please check once more\n",
      "This program can launch Database/Browser/Editor, Please enter any among you want to launch :database\n",
      "Opening Database\n"
     ]
    }
   ],
   "source": [
    "Launch_app()"
   ]
  },
  {
   "cell_type": "code",
   "execution_count": null,
   "metadata": {},
   "outputs": [],
   "source": []
  },
  {
   "cell_type": "code",
   "execution_count": null,
   "metadata": {},
   "outputs": [],
   "source": []
  }
 ],
 "metadata": {
  "kernelspec": {
   "display_name": "Python 3",
   "language": "python",
   "name": "python3"
  },
  "language_info": {
   "codemirror_mode": {
    "name": "ipython",
    "version": 3
   },
   "file_extension": ".py",
   "mimetype": "text/x-python",
   "name": "python",
   "nbconvert_exporter": "python",
   "pygments_lexer": "ipython3",
   "version": "3.8.3"
  }
 },
 "nbformat": 4,
 "nbformat_minor": 4
}
